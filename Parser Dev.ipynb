{
 "cells": [
  {
   "cell_type": "code",
   "execution_count": 1,
   "metadata": {},
   "outputs": [],
   "source": [
    "from fixedwidth.fixedwidth import FixedWidth\n",
    "from pprint import pprint\n",
    "from pyCifp.definitions import bootstrap_def, air_heliport_def, main_parser_def, \\\n",
    "    cont_base_parser_def, cont_app_parser_def, section_description_def as sdef\n",
    "import requests\n",
    "import re\n",
    "import json"
   ]
  },
  {
   "cell_type": "code",
   "execution_count": 2,
   "metadata": {},
   "outputs": [],
   "source": [
    "def p_builder(deflist, debug=False):\n",
    "    \"\"\"\n",
    "    Parser Builder\n",
    "    [\n",
    "        ('fieldname', 'length'),\n",
    "    ]\n",
    "    \"\"\"\n",
    "    parse_config = {}\n",
    "    fields_used = {}\n",
    "    next_start = 1  # Start position for the next record. Cue from the Parse::FixedLength perl module\n",
    "    \n",
    "    for field in deflist:\n",
    "        if debug:\n",
    "            print(field)\n",
    "        pre_field_name, length = field\n",
    "        \n",
    "        if pre_field_name not in fields_used:  # MORA MORA MORA.... *sigh*\n",
    "            fields_used[pre_field_name] = 1\n",
    "            field_name = pre_field_name\n",
    "        else:\n",
    "            field_name = pre_field_name + '_{fserial}'.format(fserial=fields_used[pre_field_name])\n",
    "            fields_used[pre_field_name] += 1\n",
    "            \n",
    "        parse_config[field_name] = {\n",
    "            'required': True,\n",
    "            'type': 'string',\n",
    "            'start_pos': next_start,\n",
    "            'length': length,\n",
    "            'alignment': 'left',\n",
    "            'padding': ' '\n",
    "        }\n",
    "        next_start += length\n",
    "        \n",
    "    return parse_config\n",
    "\n",
    "def fw_parse(fwobj, line):\n",
    "    \"\"\"\n",
    "    Because... fuck your extra steps?\n",
    "    \"\"\"\n",
    "    fwobj.line = line\n",
    "    return fwobj.data\n",
    "\n",
    "def get_section(line):\n",
    "    \"\"\"\n",
    "    Apparently subsections are in different locations for some records...\n",
    "    So this will get the sections\n",
    "    Returns: (section_code, subsection_code)\n",
    "    \"\"\"\n",
    "    base_parser = FixedWidth(p_builder(bootstrap_def))\n",
    "    air_heli_parser = FixedWidth(p_builder(air_heliport_def))\n",
    "    \n",
    "    base_parsed = fw_parse(base_parser, line)\n",
    "    \n",
    "    if base_parsed['SectionCode'] in ['H', 'P'] and base_parsed['SubSectionCode'] == '':\n",
    "        ah_parsed = fw_parse(air_heli_parser, line)\n",
    "        return (ah_parsed['SectionCode'], ah_parsed['SubSectionCode'])\n",
    "    else:\n",
    "        return (base_parsed['SectionCode'], base_parsed['SubSectionCode'])\n",
    "\n",
    "def dict_recurse(d):\n",
    "    \"\"\"\n",
    "    Sleuth out and build a parser in a recursive dict\n",
    "    d == dict\n",
    "    \"\"\"\n",
    "    working_dict = {}\n",
    "    \n",
    "    for k, v in d.items():\n",
    "        if isinstance(v, dict):\n",
    "            working_dict[k] = dict_recurse(v)\n",
    "        if isinstance(v, list):\n",
    "            working_dict[k] = FixedWidth(p_builder(v))\n",
    "    return working_dict\n",
    "\n"
   ]
  },
  {
   "cell_type": "code",
   "execution_count": 3,
   "metadata": {},
   "outputs": [],
   "source": [
    "# Parser Configs\n",
    "main_parsers = dict_recurse(main_parser_def)\n",
    "bc_parsers = dict_recurse(cont_base_parser_def)\n",
    "ac_parsers = dict_recurse(cont_app_parser_def)"
   ]
  },
  {
   "cell_type": "code",
   "execution_count": 4,
   "metadata": {},
   "outputs": [],
   "source": [
    "def has_main_parser(section, subsection, mpd):\n",
    "    \"\"\"\n",
    "    Check if there's a main parser for the section and subsection\n",
    "    \"\"\"\n",
    "    if subsection not in mpd[section] or not isinstance(mpd[section][subsection], FixedWidth):\n",
    "        print('Seemingly no parser for this line...')\n",
    "        return False\n",
    "    return True"
   ]
  },
  {
   "cell_type": "code",
   "execution_count": null,
   "metadata": {
    "scrolled": false
   },
   "outputs": [],
   "source": []
  },
  {
   "cell_type": "code",
   "execution_count": null,
   "metadata": {},
   "outputs": [],
   "source": []
  },
  {
   "cell_type": "code",
   "execution_count": null,
   "metadata": {},
   "outputs": [],
   "source": []
  },
  {
   "cell_type": "code",
   "execution_count": null,
   "metadata": {},
   "outputs": [],
   "source": [
    "with open('FAACIFP18', mode='r') as cifp:\n",
    "    cifp_lines = cifp.read().splitlines()\n",
    "\n",
    "genset = set()\n",
    "gendct = {}\n",
    "genlist = []\n",
    "parsed_list = []\n",
    "\n",
    "for i, l in enumerate(cifp_lines):\n",
    "    parsed_line = {\n",
    "        'record_type': '',\n",
    "        'pc': 'Primary',\n",
    "        'data': {}\n",
    "    }\n",
    "    \n",
    "    if l[0] != 'S':\n",
    "        # Header or some other shit, ignore\n",
    "        continue\n",
    "\n",
    "    section_code, subsection_code = get_section(l)\n",
    "    \n",
    "    parsed_line['record_type'] = sdef[section_code][subsection_code]\n",
    "    \n",
    "    main_parser = main_parsers[section_code][subsection_code]\n",
    "    main_line = fw_parse(main_parser, l)\n",
    "    \n",
    "    parsed_line['data'] = main_line\n",
    "    \n",
    "    is_continuation_record = False\n",
    "\n",
    "    if int(main_line.get('ContinuationRecordNumber', 0)) == 2:\n",
    "        is_continuation_record = True\n",
    "        base_parser = bc_parsers[section_code][subsection_code]\n",
    "        base_line = fw_parse(base_parser, l)\n",
    "        \n",
    "        application_type = base_line['ApplicationType']\n",
    "        app_parser = ac_parsers[section_code][subsection_code][application_type]\n",
    "        app_line = fw_parse(app_parser, l)\n",
    "        \n",
    "    if is_continuation_record:\n",
    "        parsed_line['pc'] = 'Continuation'\n",
    "        parsed_line['data'] = app_line\n",
    "    \n",
    "    parsed_list.append(parsed_line)"
   ]
  },
  {
   "cell_type": "code",
   "execution_count": 29,
   "metadata": {},
   "outputs": [],
   "source": [
    "for i in parsed_list:\n",
    "    if i['data'].get('ICAOCode') == 'OZW':\n",
    "        print(json.dumps(i, indent=4))"
   ]
  },
  {
   "cell_type": "code",
   "execution_count": 25,
   "metadata": {},
   "outputs": [],
   "source": [
    "with open('parsed_dump.json', mode='w') as dumpfile:\n",
    "    json.dump(obj=parsed_list, fp=dumpfile, indent=4)"
   ]
  }
 ],
 "metadata": {
  "kernelspec": {
   "display_name": "Python 3",
   "language": "python",
   "name": "python3"
  },
  "language_info": {
   "codemirror_mode": {
    "name": "ipython",
    "version": 3
   },
   "file_extension": ".py",
   "mimetype": "text/x-python",
   "name": "python",
   "nbconvert_exporter": "python",
   "pygments_lexer": "ipython3",
   "version": "3.6.6"
  }
 },
 "nbformat": 4,
 "nbformat_minor": 2
}
